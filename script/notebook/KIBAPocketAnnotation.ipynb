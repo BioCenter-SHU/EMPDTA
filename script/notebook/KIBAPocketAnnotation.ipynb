{
 "cells": [
  {
   "cell_type": "markdown",
   "metadata": {},
   "source": [
    "## Read annotation from the BioLiP text file"
   ]
  },
  {
   "cell_type": "markdown",
   "metadata": {},
   "source": [
    "Each line in the annotation file BioLiP_*.txt annotates for each ligand-protein interaction site in BioLiP.  We then search the proteins in Davis datasets for pocket residue info. Ref to NodeCoder `build_biolip_df` function. "
   ]
  },
  {
   "cell_type": "markdown",
   "metadata": {},
   "source": [
    "The columns are (from left to right):\n",
    "- 01\tPDB ID\n",
    "- 02\tReceptor chain\n",
    "- 03\tResolution. \"-1.00\" stands for lack of resolution information, e.g. for NMR\n",
    "- 04\tBinding site number code\n",
    "- 05\tLigand ID in the Chemical Component Dictionary (CCD) used by the PDB database\n",
    "- 06\tLigand chain\n",
    "- 07\tLigand serial number\n",
    "- 08      Binding site residues (with PDB residue numbering)\n",
    "- 09      Binding site residues (with residue re-numbered starting from 1)\n",
    "- 10\tCatalytic site residues (different sites are separated by ';') (with PDB residue numbering)\n",
    "- 11      Catalytic site residues (different sites are separated by ';') (with residue re-numbered starting from 1)\n",
    "- 12\tEC number\n",
    "- 13\tGO terms\n",
    "- 14\tBinding affinity by manual survey of the original literature. The information in '()' is the PubMed ID\n",
    "- 15\tBinding affinity provided by the Binding MOAD database. The information in '()' is the ligand information in Binding MOAD\n",
    "- 16\tBinding affinity provided by the PDBbind-CN database. The information in '()' is the ligand information in PDBbind-CN\n",
    "- 17\tBinding affinity provided by the BindingDB database\n",
    "- 18\tUniProt ID\n",
    "- 19\tPubMed ID\n",
    "- 20\tResidue sequence number of the ligand (field _atom_site.auth_seq_id in PDBx/mmCIF format)\n",
    "- 21\tReceptor sequence"
   ]
  },
  {
   "cell_type": "markdown",
   "metadata": {},
   "source": [
    "## Pocket Label From UniProt Sites File"
   ]
  },
  {
   "cell_type": "markdown",
   "metadata": {},
   "source": [
    "- ✅Pocket Protein List with 229 labeled proteins."
   ]
  },
  {
   "cell_type": "code",
   "execution_count": 1,
   "metadata": {},
   "outputs": [],
   "source": [
    "import pickle\n",
    "import json\n",
    "from tqdm import tqdm\n",
    "import pandas as pd\n",
    "import numpy as np\n",
    "from torchdrug import utils\n",
    "\n",
    "path = \"../../../data/dta-datasets/KIBA/\"\n",
    "protein_file = \"../../../data/dta-datasets/KIBA/kiba_proteins.csv\"\n",
    "protein_pkl = '../../../data/dta-datasets/KIBA/gearnetesm650m_Protein.pkl'"
   ]
  },
  {
   "cell_type": "code",
   "execution_count": 2,
   "metadata": {},
   "outputs": [],
   "source": [
    "with utils.smart_open(protein_pkl, \"rb\") as fin:\n",
    "    protein_list = pickle.load(fin)"
   ]
  },
  {
   "cell_type": "code",
   "execution_count": 3,
   "metadata": {},
   "outputs": [
    {
     "data": {
      "text/plain": [
       "229"
      ]
     },
     "execution_count": 3,
     "metadata": {},
     "output_type": "execute_result"
    }
   ],
   "source": [
    "len(protein_list)"
   ]
  },
  {
   "cell_type": "code",
   "execution_count": 4,
   "metadata": {},
   "outputs": [
    {
     "data": {
      "text/plain": [
       "[PackedProtein(batch_size=1, num_atoms=[431], num_bonds=[7507], num_residues=[431]),\n",
       " PackedProtein(batch_size=1, num_atoms=[574], num_bonds=[8301], num_residues=[574]),\n",
       " PackedProtein(batch_size=1, num_atoms=[1044], num_bonds=[19549], num_residues=[1044]),\n",
       " PackedProtein(batch_size=1, num_atoms=[725], num_bonds=[11806], num_residues=[725]),\n",
       " PackedProtein(batch_size=1, num_atoms=[970], num_bonds=[13888], num_residues=[970]),\n",
       " PackedProtein(batch_size=1, num_atoms=[476], num_bonds=[8081], num_residues=[476]),\n",
       " PackedProtein(batch_size=1, num_atoms=[756], num_bonds=[12719], num_residues=[756]),\n",
       " PackedProtein(batch_size=1, num_atoms=[403], num_bonds=[6331], num_residues=[403]),\n",
       " PackedProtein(batch_size=1, num_atoms=[740], num_bonds=[11870], num_residues=[740]),\n",
       " PackedProtein(batch_size=1, num_atoms=[745], num_bonds=[12311], num_residues=[745]),\n",
       " PackedProtein(batch_size=1, num_atoms=[365], num_bonds=[6814], num_residues=[365]),\n",
       " PackedProtein(batch_size=1, num_atoms=[556], num_bonds=[9386], num_residues=[556]),\n",
       " PackedProtein(batch_size=1, num_atoms=[454], num_bonds=[7409], num_residues=[454]),\n",
       " PackedProtein(batch_size=1, num_atoms=[272], num_bonds=[3534], num_residues=[272]),\n",
       " PackedProtein(batch_size=1, num_atoms=[588], num_bonds=[8956], num_residues=[588]),\n",
       " PackedProtein(batch_size=1, num_atoms=[661], num_bonds=[8488], num_residues=[661]),\n",
       " PackedProtein(batch_size=1, num_atoms=[1132], num_bonds=[21304], num_residues=[1132]),\n",
       " PackedProtein(batch_size=1, num_atoms=[1388], num_bonds=[19926], num_residues=[1388]),\n",
       " PackedProtein(batch_size=1, num_atoms=[802], num_bonds=[13976], num_residues=[802]),\n",
       " PackedProtein(batch_size=1, num_atoms=[772], num_bonds=[14059], num_residues=[772]),\n",
       " PackedProtein(batch_size=1, num_atoms=[890], num_bonds=[14404], num_residues=[890]),\n",
       " PackedProtein(batch_size=1, num_atoms=[1239], num_bonds=[17985], num_residues=[1239]),\n",
       " PackedProtein(batch_size=1, num_atoms=[591], num_bonds=[8296], num_residues=[591]),\n",
       " PackedProtein(batch_size=1, num_atoms=[543], num_bonds=[8702], num_residues=[543]),\n",
       " PackedProtein(batch_size=1, num_atoms=[1130], num_bonds=[14517], num_residues=[1130]),\n",
       " PackedProtein(batch_size=1, num_atoms=[1210], num_bonds=[21882], num_residues=[1210]),\n",
       " PackedProtein(batch_size=1, num_atoms=[648], num_bonds=[9628], num_residues=[648]),\n",
       " PackedProtein(batch_size=1, num_atoms=[1255], num_bonds=[22209], num_residues=[1255]),\n",
       " PackedProtein(batch_size=1, num_atoms=[796], num_bonds=[14606], num_residues=[796]),\n",
       " PackedProtein(batch_size=1, num_atoms=[697], num_bonds=[13228], num_residues=[697]),\n",
       " PackedProtein(batch_size=1, num_atoms=[671], num_bonds=[12841], num_residues=[671]),\n",
       " PackedProtein(batch_size=1, num_atoms=[1382], num_bonds=[25486], num_residues=[1382]),\n",
       " PackedProtein(batch_size=1, num_atoms=[509], num_bonds=[9040], num_residues=[509]),\n",
       " PackedProtein(batch_size=1, num_atoms=[537], num_bonds=[9484], num_residues=[537]),\n",
       " PackedProtein(batch_size=1, num_atoms=[297], num_bonds=[5545], num_residues=[297]),\n",
       " PackedProtein(batch_size=1, num_atoms=[822], num_bonds=[13442], num_residues=[822]),\n",
       " PackedProtein(batch_size=1, num_atoms=[972], num_bonds=[18216], num_residues=[972]),\n",
       " PackedProtein(batch_size=1, num_atoms=[543], num_bonds=[9533], num_residues=[543]),\n",
       " PackedProtein(batch_size=1, num_atoms=[512], num_bonds=[9075], num_residues=[512]),\n",
       " PackedProtein(batch_size=1, num_atoms=[1114], num_bonds=[19840], num_residues=[1114]),\n",
       " PackedProtein(batch_size=1, num_atoms=[1367], num_bonds=[25306], num_residues=[1367]),\n",
       " PackedProtein(batch_size=1, num_atoms=[1390], num_bonds=[27647], num_residues=[1390]),\n",
       " PackedProtein(batch_size=1, num_atoms=[526], num_bonds=[9277], num_residues=[526]),\n",
       " PackedProtein(batch_size=1, num_atoms=[2347], num_bonds=[46035], num_residues=[2347]),\n",
       " PackedProtein(batch_size=1, num_atoms=[1106], num_bonds=[18888], num_residues=[1106]),\n",
       " PackedProtein(batch_size=1, num_atoms=[529], num_bonds=[9475], num_residues=[529]),\n",
       " PackedProtein(batch_size=1, num_atoms=[976], num_bonds=[18002], num_residues=[976]),\n",
       " PackedProtein(batch_size=1, num_atoms=[313], num_bonds=[5712], num_residues=[313]),\n",
       " PackedProtein(batch_size=1, num_atoms=[822], num_bonds=[13483], num_residues=[822]),\n",
       " PackedProtein(batch_size=1, num_atoms=[303], num_bonds=[5566], num_residues=[303]),\n",
       " PackedProtein(batch_size=1, num_atoms=[536], num_bonds=[9506], num_residues=[536]),\n",
       " PackedProtein(batch_size=1, num_atoms=[766], num_bonds=[11016], num_residues=[766]),\n",
       " PackedProtein(batch_size=1, num_atoms=[406], num_bonds=[6561], num_residues=[406]),\n",
       " PackedProtein(batch_size=1, num_atoms=[1089], num_bonds=[19104], num_residues=[1089]),\n",
       " PackedProtein(batch_size=1, num_atoms=[822], num_bonds=[13206], num_residues=[822]),\n",
       " PackedProtein(batch_size=1, num_atoms=[672], num_bonds=[12833], num_residues=[672]),\n",
       " PackedProtein(batch_size=1, num_atoms=[351], num_bonds=[6645], num_residues=[351]),\n",
       " PackedProtein(batch_size=1, num_atoms=[1338], num_bonds=[23262], num_residues=[1338]),\n",
       " PackedProtein(batch_size=1, num_atoms=[350], num_bonds=[6507], num_residues=[350]),\n",
       " PackedProtein(batch_size=1, num_atoms=[821], num_bonds=[13519], num_residues=[821]),\n",
       " PackedProtein(batch_size=1, num_atoms=[802], num_bonds=[13379], num_residues=[802]),\n",
       " PackedProtein(batch_size=1, num_atoms=[806], num_bonds=[13515], num_residues=[806]),\n",
       " PackedProtein(batch_size=1, num_atoms=[351], num_bonds=[6624], num_residues=[351]),\n",
       " PackedProtein(batch_size=1, num_atoms=[351], num_bonds=[6629], num_residues=[351]),\n",
       " PackedProtein(batch_size=1, num_atoms=[525], num_bonds=[7991], num_residues=[525]),\n",
       " PackedProtein(batch_size=1, num_atoms=[1154], num_bonds=[21753], num_residues=[1154]),\n",
       " PackedProtein(batch_size=1, num_atoms=[683], num_bonds=[12816], num_residues=[683]),\n",
       " PackedProtein(batch_size=1, num_atoms=[298], num_bonds=[5562], num_residues=[298]),\n",
       " PackedProtein(batch_size=1, num_atoms=[379], num_bonds=[6989], num_residues=[379]),\n",
       " PackedProtein(batch_size=1, num_atoms=[753], num_bonds=[10524], num_residues=[753]),\n",
       " PackedProtein(batch_size=1, num_atoms=[360], num_bonds=[6666], num_residues=[360]),\n",
       " PackedProtein(batch_size=1, num_atoms=[976], num_bonds=[18766], num_residues=[976]),\n",
       " PackedProtein(batch_size=1, num_atoms=[1055], num_bonds=[19426], num_residues=[1055]),\n",
       " PackedProtein(batch_size=1, num_atoms=[864], num_bonds=[16788], num_residues=[864]),\n",
       " PackedProtein(batch_size=1, num_atoms=[1187], num_bonds=[22079], num_residues=[1187]),\n",
       " PackedProtein(batch_size=1, num_atoms=[646], num_bonds=[8424], num_residues=[646]),\n",
       " PackedProtein(batch_size=1, num_atoms=[894], num_bonds=[15699], num_residues=[894]),\n",
       " PackedProtein(batch_size=1, num_atoms=[480], num_bonds=[8833], num_residues=[480]),\n",
       " PackedProtein(batch_size=1, num_atoms=[481], num_bonds=[8855], num_residues=[481]),\n",
       " PackedProtein(batch_size=1, num_atoms=[590], num_bonds=[10368], num_residues=[590]),\n",
       " PackedProtein(batch_size=1, num_atoms=[1363], num_bonds=[23651], num_residues=[1363]),\n",
       " PackedProtein(batch_size=1, num_atoms=[1356], num_bonds=[23708], num_residues=[1356]),\n",
       " PackedProtein(batch_size=1, num_atoms=[400], num_bonds=[6787], num_residues=[400]),\n",
       " PackedProtein(batch_size=1, num_atoms=[993], num_bonds=[17735], num_residues=[993]),\n",
       " PackedProtein(batch_size=1, num_atoms=[450], num_bonds=[8976], num_residues=[450]),\n",
       " PackedProtein(batch_size=1, num_atoms=[467], num_bonds=[7722], num_residues=[467]),\n",
       " PackedProtein(batch_size=1, num_atoms=[596], num_bonds=[10318], num_residues=[596]),\n",
       " PackedProtein(batch_size=1, num_atoms=[1068], num_bonds=[20206], num_residues=[1068]),\n",
       " PackedProtein(batch_size=1, num_atoms=[1070], num_bonds=[19959], num_residues=[1070]),\n",
       " PackedProtein(batch_size=1, num_atoms=[2549], num_bonds=[42733], num_residues=[2549]),\n",
       " PackedProtein(batch_size=1, num_atoms=[507], num_bonds=[9353], num_residues=[507]),\n",
       " PackedProtein(batch_size=1, num_atoms=[1182], num_bonds=[15333], num_residues=[1182]),\n",
       " PackedProtein(batch_size=1, num_atoms=[505], num_bonds=[9324], num_residues=[505]),\n",
       " PackedProtein(batch_size=1, num_atoms=[619], num_bonds=[11592], num_residues=[619]),\n",
       " PackedProtein(batch_size=1, num_atoms=[635], num_bonds=[11623], num_residues=[635]),\n",
       " PackedProtein(batch_size=1, num_atoms=[427], num_bonds=[7405], num_residues=[427]),\n",
       " PackedProtein(batch_size=1, num_atoms=[424], num_bonds=[7287], num_residues=[424]),\n",
       " PackedProtein(batch_size=1, num_atoms=[337], num_bonds=[5862], num_residues=[337]),\n",
       " PackedProtein(batch_size=1, num_atoms=[415], num_bonds=[6559], num_residues=[415]),\n",
       " PackedProtein(batch_size=1, num_atoms=[1102], num_bonds=[20779], num_residues=[1102]),\n",
       " PackedProtein(batch_size=1, num_atoms=[400], num_bonds=[6478], num_residues=[400]),\n",
       " PackedProtein(batch_size=1, num_atoms=[464], num_bonds=[7427], num_residues=[464]),\n",
       " PackedProtein(batch_size=1, num_atoms=[416], num_bonds=[6659], num_residues=[416]),\n",
       " PackedProtein(batch_size=1, num_atoms=[484], num_bonds=[7933], num_residues=[484]),\n",
       " PackedProtein(batch_size=1, num_atoms=[499], num_bonds=[7671], num_residues=[499]),\n",
       " PackedProtein(batch_size=1, num_atoms=[483], num_bonds=[7716], num_residues=[483]),\n",
       " PackedProtein(batch_size=1, num_atoms=[420], num_bonds=[7597], num_residues=[420]),\n",
       " PackedProtein(batch_size=1, num_atoms=[346], num_bonds=[6157], num_residues=[346]),\n",
       " PackedProtein(batch_size=1, num_atoms=[372], num_bonds=[6727], num_residues=[372]),\n",
       " PackedProtein(batch_size=1, num_atoms=[505], num_bonds=[8981], num_residues=[505]),\n",
       " PackedProtein(batch_size=1, num_atoms=[712], num_bonds=[10003], num_residues=[712]),\n",
       " PackedProtein(batch_size=1, num_atoms=[740], num_bonds=[13442], num_residues=[740]),\n",
       " PackedProtein(batch_size=1, num_atoms=[675], num_bonds=[11330], num_residues=[675]),\n",
       " PackedProtein(batch_size=1, num_atoms=[358], num_bonds=[6470], num_residues=[358]),\n",
       " PackedProtein(batch_size=1, num_atoms=[445], num_bonds=[6711], num_residues=[445]),\n",
       " PackedProtein(batch_size=1, num_atoms=[841], num_bonds=[9798], num_residues=[841]),\n",
       " PackedProtein(batch_size=1, num_atoms=[1124], num_bonds=[21458], num_residues=[1124]),\n",
       " PackedProtein(batch_size=1, num_atoms=[334], num_bonds=[5968], num_residues=[334]),\n",
       " PackedProtein(batch_size=1, num_atoms=[603], num_bonds=[10867], num_residues=[603]),\n",
       " PackedProtein(batch_size=1, num_atoms=[647], num_bonds=[11064], num_residues=[647]),\n",
       " PackedProtein(batch_size=1, num_atoms=[367], num_bonds=[6712], num_residues=[367]),\n",
       " PackedProtein(batch_size=1, num_atoms=[464], num_bonds=[7518], num_residues=[464]),\n",
       " PackedProtein(batch_size=1, num_atoms=[331], num_bonds=[5805], num_residues=[331]),\n",
       " PackedProtein(batch_size=1, num_atoms=[552], num_bonds=[8694], num_residues=[552]),\n",
       " PackedProtein(batch_size=1, num_atoms=[987], num_bonds=[19005], num_residues=[987]),\n",
       " PackedProtein(batch_size=1, num_atoms=[215], num_bonds=[3518], num_residues=[215]),\n",
       " PackedProtein(batch_size=1, num_atoms=[391], num_bonds=[6806], num_residues=[391]),\n",
       " PackedProtein(batch_size=1, num_atoms=[415], num_bonds=[6661], num_residues=[415]),\n",
       " PackedProtein(batch_size=1, num_atoms=[4128], num_bonds=[118646], num_residues=[4128]),\n",
       " PackedProtein(batch_size=1, num_atoms=[1104], num_bonds=[12775], num_residues=[1104]),\n",
       " PackedProtein(batch_size=1, num_atoms=[326], num_bonds=[5834], num_residues=[326]),\n",
       " PackedProtein(batch_size=1, num_atoms=[292], num_bonds=[5562], num_residues=[292]),\n",
       " PackedProtein(batch_size=1, num_atoms=[737], num_bonds=[13651], num_residues=[737]),\n",
       " PackedProtein(batch_size=1, num_atoms=[393], num_bonds=[6880], num_residues=[393]),\n",
       " PackedProtein(batch_size=1, num_atoms=[1124], num_bonds=[22947], num_residues=[1124]),\n",
       " PackedProtein(batch_size=1, num_atoms=[954], num_bonds=[11860], num_residues=[954]),\n",
       " PackedProtein(batch_size=1, num_atoms=[706], num_bonds=[12588], num_residues=[706]),\n",
       " PackedProtein(batch_size=1, num_atoms=[509], num_bonds=[8889], num_residues=[509]),\n",
       " PackedProtein(batch_size=1, num_atoms=[1400], num_bonds=[27513], num_residues=[1400]),\n",
       " PackedProtein(batch_size=1, num_atoms=[1052], num_bonds=[16311], num_residues=[1052]),\n",
       " PackedProtein(batch_size=1, num_atoms=[592], num_bonds=[10314], num_residues=[592]),\n",
       " PackedProtein(batch_size=1, num_atoms=[676], num_bonds=[12577], num_residues=[676]),\n",
       " PackedProtein(batch_size=1, num_atoms=[659], num_bonds=[12491], num_residues=[659]),\n",
       " PackedProtein(batch_size=1, num_atoms=[890], num_bonds=[15585], num_residues=[890]),\n",
       " PackedProtein(batch_size=1, num_atoms=[1038], num_bonds=[13611], num_residues=[1038]),\n",
       " PackedProtein(batch_size=1, num_atoms=[620], num_bonds=[11930], num_residues=[620]),\n",
       " PackedProtein(batch_size=1, num_atoms=[820], num_bonds=[15086], num_residues=[820]),\n",
       " PackedProtein(batch_size=1, num_atoms=[999], num_bonds=[16532], num_residues=[999]),\n",
       " PackedProtein(batch_size=1, num_atoms=[559], num_bonds=[8750], num_residues=[559]),\n",
       " PackedProtein(batch_size=1, num_atoms=[545], num_bonds=[8492], num_residues=[545]),\n",
       " PackedProtein(batch_size=1, num_atoms=[524], num_bonds=[8170], num_residues=[524]),\n",
       " PackedProtein(batch_size=1, num_atoms=[491], num_bonds=[7644], num_residues=[491]),\n",
       " PackedProtein(batch_size=1, num_atoms=[762], num_bonds=[13492], num_residues=[762]),\n",
       " PackedProtein(batch_size=1, num_atoms=[1354], num_bonds=[18988], num_residues=[1354]),\n",
       " PackedProtein(batch_size=1, num_atoms=[666], num_bonds=[10331], num_residues=[666]),\n",
       " PackedProtein(batch_size=1, num_atoms=[558], num_bonds=[9694], num_residues=[558]),\n",
       " PackedProtein(batch_size=1, num_atoms=[499], num_bonds=[8964], num_residues=[499]),\n",
       " PackedProtein(batch_size=1, num_atoms=[763], num_bonds=[10044], num_residues=[763]),\n",
       " PackedProtein(batch_size=1, num_atoms=[451], num_bonds=[8854], num_residues=[451]),\n",
       " PackedProtein(batch_size=1, num_atoms=[671], num_bonds=[12735], num_residues=[671]),\n",
       " PackedProtein(batch_size=1, num_atoms=[370], num_bonds=[6325], num_residues=[370]),\n",
       " PackedProtein(batch_size=1, num_atoms=[716], num_bonds=[12650], num_residues=[716]),\n",
       " PackedProtein(batch_size=1, num_atoms=[1009], num_bonds=[15967], num_residues=[1009]),\n",
       " PackedProtein(batch_size=1, num_atoms=[651], num_bonds=[10054], num_residues=[651]),\n",
       " PackedProtein(batch_size=1, num_atoms=[307], num_bonds=[3819], num_residues=[307]),\n",
       " PackedProtein(batch_size=1, num_atoms=[436], num_bonds=[7367], num_residues=[436]),\n",
       " PackedProtein(batch_size=1, num_atoms=[912], num_bonds=[14686], num_residues=[912]),\n",
       " PackedProtein(batch_size=1, num_atoms=[1308], num_bonds=[23096], num_residues=[1308]),\n",
       " PackedProtein(batch_size=1, num_atoms=[735], num_bonds=[13346], num_residues=[735]),\n",
       " PackedProtein(batch_size=1, num_atoms=[364], num_bonds=[6704], num_residues=[364]),\n",
       " PackedProtein(batch_size=1, num_atoms=[839], num_bonds=[15104], num_residues=[839]),\n",
       " PackedProtein(batch_size=1, num_atoms=[942], num_bonds=[14856], num_residues=[942]),\n",
       " PackedProtein(batch_size=1, num_atoms=[984], num_bonds=[15296], num_residues=[984]),\n",
       " PackedProtein(batch_size=1, num_atoms=[360], num_bonds=[6672], num_residues=[360]),\n",
       " PackedProtein(batch_size=1, num_atoms=[473], num_bonds=[7051], num_residues=[473]),\n",
       " PackedProtein(batch_size=1, num_atoms=[847], num_bonds=[11050], num_residues=[847]),\n",
       " PackedProtein(batch_size=1, num_atoms=[822], num_bonds=[14832], num_residues=[822]),\n",
       " PackedProtein(batch_size=1, num_atoms=[382], num_bonds=[6487], num_residues=[382]),\n",
       " PackedProtein(batch_size=1, num_atoms=[2527], num_bonds=[47859], num_residues=[2527]),\n",
       " PackedProtein(batch_size=1, num_atoms=[1732], num_bonds=[27604], num_residues=[1732]),\n",
       " PackedProtein(batch_size=1, num_atoms=[788], num_bonds=[10982], num_residues=[788]),\n",
       " PackedProtein(batch_size=1, num_atoms=[1001], num_bonds=[14108], num_residues=[1001]),\n",
       " PackedProtein(batch_size=1, num_atoms=[326], num_bonds=[5684], num_residues=[326]),\n",
       " PackedProtein(batch_size=1, num_atoms=[385], num_bonds=[6369], num_residues=[385]),\n",
       " PackedProtein(batch_size=1, num_atoms=[473], num_bonds=[7902], num_residues=[473]),\n",
       " PackedProtein(batch_size=1, num_atoms=[1332], num_bonds=[18281], num_residues=[1332]),\n",
       " PackedProtein(batch_size=1, num_atoms=[616], num_bonds=[9457], num_residues=[616]),\n",
       " PackedProtein(batch_size=1, num_atoms=[778], num_bonds=[11101], num_residues=[778]),\n",
       " PackedProtein(batch_size=1, num_atoms=[344], num_bonds=[5873], num_residues=[344]),\n",
       " PackedProtein(batch_size=1, num_atoms=[322], num_bonds=[5793], num_residues=[322]),\n",
       " PackedProtein(batch_size=1, num_atoms=[752], num_bonds=[10697], num_residues=[752]),\n",
       " PackedProtein(batch_size=1, num_atoms=[358], num_bonds=[6201], num_residues=[358]),\n",
       " PackedProtein(batch_size=1, num_atoms=[1323], num_bonds=[17321], num_residues=[1323]),\n",
       " PackedProtein(batch_size=1, num_atoms=[588], num_bonds=[8282], num_residues=[588]),\n",
       " PackedProtein(batch_size=1, num_atoms=[655], num_bonds=[10090], num_residues=[655]),\n",
       " PackedProtein(batch_size=1, num_atoms=[1374], num_bonds=[21047], num_residues=[1374]),\n",
       " PackedProtein(batch_size=1, num_atoms=[465], num_bonds=[7283], num_residues=[465]),\n",
       " PackedProtein(batch_size=1, num_atoms=[502], num_bonds=[7687], num_residues=[502]),\n",
       " PackedProtein(batch_size=1, num_atoms=[367], num_bonds=[6029], num_residues=[367]),\n",
       " PackedProtein(batch_size=1, num_atoms=[878], num_bonds=[14382], num_residues=[878]),\n",
       " PackedProtein(batch_size=1, num_atoms=[926], num_bonds=[10790], num_residues=[926]),\n",
       " PackedProtein(batch_size=1, num_atoms=[1235], num_bonds=[14948], num_residues=[1235]),\n",
       " PackedProtein(batch_size=1, num_atoms=[1198], num_bonds=[13544], num_residues=[1198]),\n",
       " PackedProtein(batch_size=1, num_atoms=[488], num_bonds=[8758], num_residues=[488]),\n",
       " PackedProtein(batch_size=1, num_atoms=[646], num_bonds=[10960], num_residues=[646]),\n",
       " PackedProtein(batch_size=1, num_atoms=[481], num_bonds=[7736], num_residues=[481]),\n",
       " PackedProtein(batch_size=1, num_atoms=[465], num_bonds=[7174], num_residues=[465]),\n",
       " PackedProtein(batch_size=1, num_atoms=[367], num_bonds=[6821], num_residues=[367]),\n",
       " PackedProtein(batch_size=1, num_atoms=[313], num_bonds=[5352], num_residues=[313]),\n",
       " PackedProtein(batch_size=1, num_atoms=[422], num_bonds=[6734], num_residues=[422]),\n",
       " PackedProtein(batch_size=1, num_atoms=[520], num_bonds=[8398], num_residues=[520]),\n",
       " PackedProtein(batch_size=1, num_atoms=[460], num_bonds=[8082], num_residues=[460]),\n",
       " PackedProtein(batch_size=1, num_atoms=[800], num_bonds=[11655], num_residues=[800]),\n",
       " PackedProtein(batch_size=1, num_atoms=[311], num_bonds=[5731], num_residues=[311]),\n",
       " PackedProtein(batch_size=1, num_atoms=[416], num_bonds=[7026], num_residues=[416]),\n",
       " PackedProtein(batch_size=1, num_atoms=[527], num_bonds=[8311], num_residues=[527]),\n",
       " PackedProtein(batch_size=1, num_atoms=[816], num_bonds=[12161], num_residues=[816]),\n",
       " PackedProtein(batch_size=1, num_atoms=[482], num_bonds=[7788], num_residues=[482]),\n",
       " PackedProtein(batch_size=1, num_atoms=[414], num_bonds=[6518], num_residues=[414]),\n",
       " PackedProtein(batch_size=1, num_atoms=[489], num_bonds=[7300], num_residues=[489]),\n",
       " PackedProtein(batch_size=1, num_atoms=[569], num_bonds=[7616], num_residues=[569]),\n",
       " PackedProtein(batch_size=1, num_atoms=[729], num_bonds=[12771], num_residues=[729]),\n",
       " PackedProtein(batch_size=1, num_atoms=[1620], num_bonds=[29287], num_residues=[1620]),\n",
       " PackedProtein(batch_size=1, num_atoms=[478], num_bonds=[8866], num_residues=[478]),\n",
       " PackedProtein(batch_size=1, num_atoms=[479], num_bonds=[8772], num_residues=[479]),\n",
       " PackedProtein(batch_size=1, num_atoms=[629], num_bonds=[8804], num_residues=[629]),\n",
       " PackedProtein(batch_size=1, num_atoms=[270], num_bonds=[3519], num_residues=[270]),\n",
       " PackedProtein(batch_size=1, num_atoms=[846], num_bonds=[15166], num_residues=[846]),\n",
       " PackedProtein(batch_size=1, num_atoms=[447], num_bonds=[6904], num_residues=[447])]"
      ]
     },
     "execution_count": 4,
     "metadata": {},
     "output_type": "execute_result"
    }
   ],
   "source": [
    "protein_list"
   ]
  },
  {
   "cell_type": "code",
   "execution_count": 5,
   "metadata": {},
   "outputs": [],
   "source": [
    "label_dict = json.load(open(f\"{path}BioLiP/pocket_label.txt\"))"
   ]
  },
  {
   "cell_type": "code",
   "execution_count": 6,
   "metadata": {},
   "outputs": [],
   "source": [
    "total_nums = 0\n",
    "for value in label_dict.values():\n",
    "    total_nums += len(value)"
   ]
  },
  {
   "cell_type": "code",
   "execution_count": 7,
   "metadata": {},
   "outputs": [
    {
     "data": {
      "text/plain": [
       "2987"
      ]
     },
     "execution_count": 7,
     "metadata": {},
     "output_type": "execute_result"
    }
   ],
   "source": [
    "total_nums"
   ]
  },
  {
   "cell_type": "code",
   "execution_count": 8,
   "metadata": {},
   "outputs": [
    {
     "data": {
      "text/plain": [
       "[61, 238, 409, 606, 908]"
      ]
     },
     "execution_count": 8,
     "metadata": {},
     "output_type": "execute_result"
    }
   ],
   "source": [
    "label_dict['P42336']"
   ]
  },
  {
   "cell_type": "code",
   "execution_count": 9,
   "metadata": {},
   "outputs": [
    {
     "data": {
      "text/html": [
       "<div>\n",
       "<style scoped>\n",
       "    .dataframe tbody tr th:only-of-type {\n",
       "        vertical-align: middle;\n",
       "    }\n",
       "\n",
       "    .dataframe tbody tr th {\n",
       "        vertical-align: top;\n",
       "    }\n",
       "\n",
       "    .dataframe thead th {\n",
       "        text-align: right;\n",
       "    }\n",
       "</style>\n",
       "<table border=\"1\" class=\"dataframe\">\n",
       "  <thead>\n",
       "    <tr style=\"text-align: right;\">\n",
       "      <th></th>\n",
       "      <th>Gene</th>\n",
       "      <th>Sequence</th>\n",
       "      <th>AA length</th>\n",
       "      <th>PDBID</th>\n",
       "    </tr>\n",
       "  </thead>\n",
       "  <tbody>\n",
       "    <tr>\n",
       "      <th>0</th>\n",
       "      <td>O00141</td>\n",
       "      <td>MTVKTEAAKGTLTYSRMRGMVAILIAFMKQRRMGLNDFIQKIANNS...</td>\n",
       "      <td>431</td>\n",
       "      <td>O00141</td>\n",
       "    </tr>\n",
       "    <tr>\n",
       "      <th>1</th>\n",
       "      <td>O00311</td>\n",
       "      <td>MEASLGIQMDEPMAFSPQRDRFQAEGSLKKNEQNFKLAGVKKDIEK...</td>\n",
       "      <td>574</td>\n",
       "      <td>O00311</td>\n",
       "    </tr>\n",
       "    <tr>\n",
       "      <th>2</th>\n",
       "      <td>O00329</td>\n",
       "      <td>MPPGVDCPMEFWTKEENQSVVVDFLLPTGVYLNFPVSRNANLSTIK...</td>\n",
       "      <td>1044</td>\n",
       "      <td>O00329</td>\n",
       "    </tr>\n",
       "    <tr>\n",
       "      <th>3</th>\n",
       "      <td>O00418</td>\n",
       "      <td>MADEDLIFRLEGVDGGQSPRAGHDGDSDGDSDDEEGYFICPITDDP...</td>\n",
       "      <td>725</td>\n",
       "      <td>O00418</td>\n",
       "    </tr>\n",
       "    <tr>\n",
       "      <th>4</th>\n",
       "      <td>O00444</td>\n",
       "      <td>MATCIGEKIEDFKVGNLLGKGSFAGVYRAESIHTGLEVAIKMIDKK...</td>\n",
       "      <td>970</td>\n",
       "      <td>O00444</td>\n",
       "    </tr>\n",
       "    <tr>\n",
       "      <th>...</th>\n",
       "      <td>...</td>\n",
       "      <td>...</td>\n",
       "      <td>...</td>\n",
       "      <td>...</td>\n",
       "    </tr>\n",
       "    <tr>\n",
       "      <th>224</th>\n",
       "      <td>Q9Y243</td>\n",
       "      <td>MSDVTIVKEGWVQKRGEYIKNWRPRYFLLKTDGSFIGYKEKPQDVD...</td>\n",
       "      <td>479</td>\n",
       "      <td>Q9Y243</td>\n",
       "    </tr>\n",
       "    <tr>\n",
       "      <th>225</th>\n",
       "      <td>Q9Y463</td>\n",
       "      <td>MAVPPGHGPFSGFPGPQEHTQVLPDVRLLPRRLPLAFRDATSAPLR...</td>\n",
       "      <td>629</td>\n",
       "      <td>Q9Y463</td>\n",
       "    </tr>\n",
       "    <tr>\n",
       "      <th>226</th>\n",
       "      <td>Q9Y478</td>\n",
       "      <td>MGNTSSERAALERHGGHKTPRRDSSGGTKDGDRPKILMDSPEDADL...</td>\n",
       "      <td>270</td>\n",
       "      <td>Q9Y478</td>\n",
       "    </tr>\n",
       "    <tr>\n",
       "      <th>227</th>\n",
       "      <td>Q9Y4K4</td>\n",
       "      <td>MEAPLRPAADILRRNPQQDYELVQRVGSGTYGDVYKARNVHTGELA...</td>\n",
       "      <td>846</td>\n",
       "      <td>Q9Y4K4</td>\n",
       "    </tr>\n",
       "    <tr>\n",
       "      <th>228</th>\n",
       "      <td>Q9Y6M4</td>\n",
       "      <td>MENKKKDKDKSDDRMARPSGRSGHNTRGTGSSSSGVLMVGPNFRVG...</td>\n",
       "      <td>447</td>\n",
       "      <td>Q9Y6M4</td>\n",
       "    </tr>\n",
       "  </tbody>\n",
       "</table>\n",
       "<p>229 rows × 4 columns</p>\n",
       "</div>"
      ],
      "text/plain": [
       "       Gene                                           Sequence  AA length  \\\n",
       "0    O00141  MTVKTEAAKGTLTYSRMRGMVAILIAFMKQRRMGLNDFIQKIANNS...        431   \n",
       "1    O00311  MEASLGIQMDEPMAFSPQRDRFQAEGSLKKNEQNFKLAGVKKDIEK...        574   \n",
       "2    O00329  MPPGVDCPMEFWTKEENQSVVVDFLLPTGVYLNFPVSRNANLSTIK...       1044   \n",
       "3    O00418  MADEDLIFRLEGVDGGQSPRAGHDGDSDGDSDDEEGYFICPITDDP...        725   \n",
       "4    O00444  MATCIGEKIEDFKVGNLLGKGSFAGVYRAESIHTGLEVAIKMIDKK...        970   \n",
       "..      ...                                                ...        ...   \n",
       "224  Q9Y243  MSDVTIVKEGWVQKRGEYIKNWRPRYFLLKTDGSFIGYKEKPQDVD...        479   \n",
       "225  Q9Y463  MAVPPGHGPFSGFPGPQEHTQVLPDVRLLPRRLPLAFRDATSAPLR...        629   \n",
       "226  Q9Y478  MGNTSSERAALERHGGHKTPRRDSSGGTKDGDRPKILMDSPEDADL...        270   \n",
       "227  Q9Y4K4  MEAPLRPAADILRRNPQQDYELVQRVGSGTYGDVYKARNVHTGELA...        846   \n",
       "228  Q9Y6M4  MENKKKDKDKSDDRMARPSGRSGHNTRGTGSSSSGVLMVGPNFRVG...        447   \n",
       "\n",
       "      PDBID  \n",
       "0    O00141  \n",
       "1    O00311  \n",
       "2    O00329  \n",
       "3    O00418  \n",
       "4    O00444  \n",
       "..      ...  \n",
       "224  Q9Y243  \n",
       "225  Q9Y463  \n",
       "226  Q9Y478  \n",
       "227  Q9Y4K4  \n",
       "228  Q9Y6M4  \n",
       "\n",
       "[229 rows x 4 columns]"
      ]
     },
     "execution_count": 9,
     "metadata": {},
     "output_type": "execute_result"
    }
   ],
   "source": [
    "protein_df = pd.read_csv(protein_file)\n",
    "protein_df"
   ]
  },
  {
   "cell_type": "code",
   "execution_count": 10,
   "metadata": {},
   "outputs": [
    {
     "data": {
      "text/plain": [
       "'O00141'"
      ]
     },
     "execution_count": 10,
     "metadata": {},
     "output_type": "execute_result"
    }
   ],
   "source": [
    "protein_df['PDBID'][0]"
   ]
  },
  {
   "cell_type": "code",
   "execution_count": 12,
   "metadata": {},
   "outputs": [
    {
     "name": "stderr",
     "output_type": "stream",
     "text": [
      "Constructing Pocket from File: 100%|██████████| 229/229 [00:00<00:00, 743.65it/s]\n"
     ]
    }
   ],
   "source": [
    "label_list = []\n",
    "pocket_list = []\n",
    "indexes = range(protein_df[\"PDBID\"].shape[0])  # dataset_df[\"PDB_File\"].shape[0]\n",
    "indexes = tqdm(indexes, \"Constructing Pocket from File: \")\n",
    "for index in indexes:\n",
    "    current_pdb = protein_df['PDBID'][index]\n",
    "    pocket_key = label_dict[current_pdb]\n",
    "    current_pocket = [x - 1 for x in set(pocket_key)]  # unique protein\n",
    "    current_protein = protein_list[index]\n",
    "    current_length = current_protein.num_residue.item()\n",
    "    pocket = current_protein.residue_mask(index=current_pocket, compact=True)\n",
    "    pocket_list.append(pocket)\n",
    "\n",
    "    pocket_dict = {}\n",
    "    pocket_dict['mask'] = np.ones(current_length, dtype='int32')  # all true\n",
    "    pocket_dict['target'] = np.zeros(current_length, dtype='int32')  \n",
    "    for pocket_index in current_pocket:\n",
    "        pocket_dict['target'][pocket_index] = 1\n",
    "    label_list.append(pocket_dict)"
   ]
  },
  {
   "cell_type": "code",
   "execution_count": 13,
   "metadata": {},
   "outputs": [
    {
     "data": {
      "text/plain": [
       "229"
      ]
     },
     "execution_count": 13,
     "metadata": {},
     "output_type": "execute_result"
    }
   ],
   "source": [
    "len(label_list)"
   ]
  },
  {
   "cell_type": "code",
   "execution_count": 14,
   "metadata": {},
   "outputs": [
    {
     "data": {
      "text/plain": [
       "229"
      ]
     },
     "execution_count": 14,
     "metadata": {},
     "output_type": "execute_result"
    }
   ],
   "source": [
    "len(pocket_list)"
   ]
  },
  {
   "cell_type": "code",
   "execution_count": 15,
   "metadata": {},
   "outputs": [
    {
     "data": {
      "text/plain": [
       "[PackedProtein(batch_size=1, num_atoms=[11], num_bonds=[90], num_residues=[11]),\n",
       " PackedProtein(batch_size=1, num_atoms=[11], num_bonds=[91], num_residues=[11]),\n",
       " PackedProtein(batch_size=1, num_atoms=[32], num_bonds=[171], num_residues=[32]),\n",
       " PackedProtein(batch_size=1, num_atoms=[7], num_bonds=[29], num_residues=[7]),\n",
       " PackedProtein(batch_size=1, num_atoms=[11], num_bonds=[92], num_residues=[11]),\n",
       " PackedProtein(batch_size=1, num_atoms=[11], num_bonds=[91], num_residues=[11]),\n",
       " PackedProtein(batch_size=1, num_atoms=[11], num_bonds=[94], num_residues=[11]),\n",
       " PackedProtein(batch_size=1, num_atoms=[9], num_bonds=[29], num_residues=[9]),\n",
       " PackedProtein(batch_size=1, num_atoms=[11], num_bonds=[88], num_residues=[11]),\n",
       " PackedProtein(batch_size=1, num_atoms=[11], num_bonds=[94], num_residues=[11]),\n",
       " PackedProtein(batch_size=1, num_atoms=[11], num_bonds=[92], num_residues=[11]),\n",
       " PackedProtein(batch_size=1, num_atoms=[11], num_bonds=[36], num_residues=[11]),\n",
       " PackedProtein(batch_size=1, num_atoms=[13], num_bonds=[93], num_residues=[13]),\n",
       " PackedProtein(batch_size=1, num_atoms=[11], num_bonds=[26], num_residues=[11]),\n",
       " PackedProtein(batch_size=1, num_atoms=[15], num_bonds=[107], num_residues=[15]),\n",
       " PackedProtein(batch_size=1, num_atoms=[11], num_bonds=[91], num_residues=[11]),\n",
       " PackedProtein(batch_size=1, num_atoms=[11], num_bonds=[89], num_residues=[11]),\n",
       " PackedProtein(batch_size=1, num_atoms=[11], num_bonds=[90], num_residues=[11]),\n",
       " PackedProtein(batch_size=1, num_atoms=[22], num_bonds=[182], num_residues=[22]),\n",
       " PackedProtein(batch_size=1, num_atoms=[22], num_bonds=[182], num_residues=[22]),\n",
       " PackedProtein(batch_size=1, num_atoms=[11], num_bonds=[90], num_residues=[11]),\n",
       " PackedProtein(batch_size=1, num_atoms=[11], num_bonds=[94], num_residues=[11]),\n",
       " PackedProtein(batch_size=1, num_atoms=[17], num_bonds=[131], num_residues=[17]),\n",
       " PackedProtein(batch_size=1, num_atoms=[20], num_bonds=[137], num_residues=[20]),\n",
       " PackedProtein(batch_size=1, num_atoms=[20], num_bonds=[130], num_residues=[20]),\n",
       " PackedProtein(batch_size=1, num_atoms=[15], num_bonds=[101], num_residues=[15]),\n",
       " PackedProtein(batch_size=1, num_atoms=[19], num_bonds=[131], num_residues=[19]),\n",
       " PackedProtein(batch_size=1, num_atoms=[11], num_bonds=[94], num_residues=[11]),\n",
       " PackedProtein(batch_size=1, num_atoms=[16], num_bonds=[97], num_residues=[16]),\n",
       " PackedProtein(batch_size=1, num_atoms=[20], num_bonds=[171], num_residues=[20]),\n",
       " PackedProtein(batch_size=1, num_atoms=[20], num_bonds=[163], num_residues=[20]),\n",
       " PackedProtein(batch_size=1, num_atoms=[14], num_bonds=[66], num_residues=[14]),\n",
       " PackedProtein(batch_size=1, num_atoms=[11], num_bonds=[93], num_residues=[11]),\n",
       " PackedProtein(batch_size=1, num_atoms=[11], num_bonds=[93], num_residues=[11]),\n",
       " PackedProtein(batch_size=1, num_atoms=[11], num_bonds=[93], num_residues=[11]),\n",
       " PackedProtein(batch_size=1, num_atoms=[11], num_bonds=[94], num_residues=[11]),\n",
       " PackedProtein(batch_size=1, num_atoms=[11], num_bonds=[83], num_residues=[11]),\n",
       " PackedProtein(batch_size=1, num_atoms=[11], num_bonds=[90], num_residues=[11]),\n",
       " PackedProtein(batch_size=1, num_atoms=[11], num_bonds=[93], num_residues=[11]),\n",
       " PackedProtein(batch_size=1, num_atoms=[14], num_bonds=[98], num_residues=[14]),\n",
       " PackedProtein(batch_size=1, num_atoms=[11], num_bonds=[96], num_residues=[11]),\n",
       " PackedProtein(batch_size=1, num_atoms=[16], num_bonds=[115], num_residues=[16]),\n",
       " PackedProtein(batch_size=1, num_atoms=[11], num_bonds=[93], num_residues=[11]),\n",
       " PackedProtein(batch_size=1, num_atoms=[11], num_bonds=[92], num_residues=[11]),\n",
       " PackedProtein(batch_size=1, num_atoms=[11], num_bonds=[84], num_residues=[11]),\n",
       " PackedProtein(batch_size=1, num_atoms=[11], num_bonds=[93], num_residues=[11]),\n",
       " PackedProtein(batch_size=1, num_atoms=[22], num_bonds=[132], num_residues=[22]),\n",
       " PackedProtein(batch_size=1, num_atoms=[13], num_bonds=[92], num_residues=[13]),\n",
       " PackedProtein(batch_size=1, num_atoms=[16], num_bonds=[71], num_residues=[16]),\n",
       " PackedProtein(batch_size=1, num_atoms=[11], num_bonds=[87], num_residues=[11]),\n",
       " PackedProtein(batch_size=1, num_atoms=[11], num_bonds=[93], num_residues=[11]),\n",
       " PackedProtein(batch_size=1, num_atoms=[19], num_bonds=[128], num_residues=[19]),\n",
       " PackedProtein(batch_size=1, num_atoms=[11], num_bonds=[92], num_residues=[11]),\n",
       " PackedProtein(batch_size=1, num_atoms=[11], num_bonds=[84], num_residues=[11]),\n",
       " PackedProtein(batch_size=1, num_atoms=[11], num_bonds=[93], num_residues=[11]),\n",
       " PackedProtein(batch_size=1, num_atoms=[21], num_bonds=[192], num_residues=[21]),\n",
       " PackedProtein(batch_size=1, num_atoms=[22], num_bonds=[157], num_residues=[22]),\n",
       " PackedProtein(batch_size=1, num_atoms=[11], num_bonds=[93], num_residues=[11]),\n",
       " PackedProtein(batch_size=1, num_atoms=[11], num_bonds=[94], num_residues=[11]),\n",
       " PackedProtein(batch_size=1, num_atoms=[15], num_bonds=[102], num_residues=[15]),\n",
       " PackedProtein(batch_size=1, num_atoms=[11], num_bonds=[91], num_residues=[11]),\n",
       " PackedProtein(batch_size=1, num_atoms=[11], num_bonds=[93], num_residues=[11]),\n",
       " PackedProtein(batch_size=1, num_atoms=[11], num_bonds=[90], num_residues=[11]),\n",
       " PackedProtein(batch_size=1, num_atoms=[11], num_bonds=[88], num_residues=[11]),\n",
       " PackedProtein(batch_size=1, num_atoms=[11], num_bonds=[89], num_residues=[11]),\n",
       " PackedProtein(batch_size=1, num_atoms=[11], num_bonds=[91], num_residues=[11]),\n",
       " PackedProtein(batch_size=1, num_atoms=[11], num_bonds=[89], num_residues=[11]),\n",
       " PackedProtein(batch_size=1, num_atoms=[24], num_bonds=[193], num_residues=[24]),\n",
       " PackedProtein(batch_size=1, num_atoms=[11], num_bonds=[93], num_residues=[11]),\n",
       " PackedProtein(batch_size=1, num_atoms=[11], num_bonds=[89], num_residues=[11]),\n",
       " PackedProtein(batch_size=1, num_atoms=[11], num_bonds=[94], num_residues=[11]),\n",
       " PackedProtein(batch_size=1, num_atoms=[11], num_bonds=[95], num_residues=[11]),\n",
       " PackedProtein(batch_size=1, num_atoms=[11], num_bonds=[94], num_residues=[11]),\n",
       " PackedProtein(batch_size=1, num_atoms=[11], num_bonds=[92], num_residues=[11]),\n",
       " PackedProtein(batch_size=1, num_atoms=[11], num_bonds=[97], num_residues=[11]),\n",
       " PackedProtein(batch_size=1, num_atoms=[13], num_bonds=[105], num_residues=[13]),\n",
       " PackedProtein(batch_size=1, num_atoms=[11], num_bonds=[93], num_residues=[11]),\n",
       " PackedProtein(batch_size=1, num_atoms=[22], num_bonds=[162], num_residues=[22]),\n",
       " PackedProtein(batch_size=1, num_atoms=[13], num_bonds=[103], num_residues=[13]),\n",
       " PackedProtein(batch_size=1, num_atoms=[11], num_bonds=[90], num_residues=[11]),\n",
       " PackedProtein(batch_size=1, num_atoms=[11], num_bonds=[94], num_residues=[11]),\n",
       " PackedProtein(batch_size=1, num_atoms=[12], num_bonds=[94], num_residues=[12]),\n",
       " PackedProtein(batch_size=1, num_atoms=[11], num_bonds=[91], num_residues=[11]),\n",
       " PackedProtein(batch_size=1, num_atoms=[11], num_bonds=[84], num_residues=[11]),\n",
       " PackedProtein(batch_size=1, num_atoms=[11], num_bonds=[94], num_residues=[11]),\n",
       " PackedProtein(batch_size=1, num_atoms=[11], num_bonds=[96], num_residues=[11]),\n",
       " PackedProtein(batch_size=1, num_atoms=[11], num_bonds=[91], num_residues=[11]),\n",
       " PackedProtein(batch_size=1, num_atoms=[5], num_bonds=[5], num_residues=[5]),\n",
       " PackedProtein(batch_size=1, num_atoms=[5], num_bonds=[5], num_residues=[5]),\n",
       " PackedProtein(batch_size=1, num_atoms=[14], num_bonds=[81], num_residues=[14]),\n",
       " PackedProtein(batch_size=1, num_atoms=[11], num_bonds=[93], num_residues=[11]),\n",
       " PackedProtein(batch_size=1, num_atoms=[17], num_bonds=[121], num_residues=[17]),\n",
       " PackedProtein(batch_size=1, num_atoms=[11], num_bonds=[93], num_residues=[11]),\n",
       " PackedProtein(batch_size=1, num_atoms=[10], num_bonds=[77], num_residues=[10]),\n",
       " PackedProtein(batch_size=1, num_atoms=[11], num_bonds=[91], num_residues=[11]),\n",
       " PackedProtein(batch_size=1, num_atoms=[11], num_bonds=[91], num_residues=[11]),\n",
       " PackedProtein(batch_size=1, num_atoms=[11], num_bonds=[91], num_residues=[11]),\n",
       " PackedProtein(batch_size=1, num_atoms=[11], num_bonds=[95], num_residues=[11]),\n",
       " PackedProtein(batch_size=1, num_atoms=[11], num_bonds=[95], num_residues=[11]),\n",
       " PackedProtein(batch_size=1, num_atoms=[28], num_bonds=[190], num_residues=[28]),\n",
       " PackedProtein(batch_size=1, num_atoms=[14], num_bonds=[107], num_residues=[14]),\n",
       " PackedProtein(batch_size=1, num_atoms=[11], num_bonds=[86], num_residues=[11]),\n",
       " PackedProtein(batch_size=1, num_atoms=[11], num_bonds=[95], num_residues=[11]),\n",
       " PackedProtein(batch_size=1, num_atoms=[11], num_bonds=[85], num_residues=[11]),\n",
       " PackedProtein(batch_size=1, num_atoms=[11], num_bonds=[89], num_residues=[11]),\n",
       " PackedProtein(batch_size=1, num_atoms=[11], num_bonds=[92], num_residues=[11]),\n",
       " PackedProtein(batch_size=1, num_atoms=[11], num_bonds=[91], num_residues=[11]),\n",
       " PackedProtein(batch_size=1, num_atoms=[11], num_bonds=[94], num_residues=[11]),\n",
       " PackedProtein(batch_size=1, num_atoms=[15], num_bonds=[107], num_residues=[15]),\n",
       " PackedProtein(batch_size=1, num_atoms=[11], num_bonds=[93], num_residues=[11]),\n",
       " PackedProtein(batch_size=1, num_atoms=[16], num_bonds=[129], num_residues=[16]),\n",
       " PackedProtein(batch_size=1, num_atoms=[22], num_bonds=[181], num_residues=[22]),\n",
       " PackedProtein(batch_size=1, num_atoms=[15], num_bonds=[118], num_residues=[15]),\n",
       " PackedProtein(batch_size=1, num_atoms=[11], num_bonds=[88], num_residues=[11]),\n",
       " PackedProtein(batch_size=1, num_atoms=[11], num_bonds=[93], num_residues=[11]),\n",
       " PackedProtein(batch_size=1, num_atoms=[11], num_bonds=[92], num_residues=[11]),\n",
       " PackedProtein(batch_size=1, num_atoms=[11], num_bonds=[91], num_residues=[11]),\n",
       " PackedProtein(batch_size=1, num_atoms=[11], num_bonds=[93], num_residues=[11]),\n",
       " PackedProtein(batch_size=1, num_atoms=[17], num_bonds=[126], num_residues=[17]),\n",
       " PackedProtein(batch_size=1, num_atoms=[11], num_bonds=[91], num_residues=[11]),\n",
       " PackedProtein(batch_size=1, num_atoms=[11], num_bonds=[92], num_residues=[11]),\n",
       " PackedProtein(batch_size=1, num_atoms=[11], num_bonds=[92], num_residues=[11]),\n",
       " PackedProtein(batch_size=1, num_atoms=[27], num_bonds=[223], num_residues=[27]),\n",
       " PackedProtein(batch_size=1, num_atoms=[11], num_bonds=[93], num_residues=[11]),\n",
       " PackedProtein(batch_size=1, num_atoms=[11], num_bonds=[95], num_residues=[11]),\n",
       " PackedProtein(batch_size=1, num_atoms=[6], num_bonds=[39], num_residues=[6]),\n",
       " PackedProtein(batch_size=1, num_atoms=[11], num_bonds=[94], num_residues=[11]),\n",
       " PackedProtein(batch_size=1, num_atoms=[11], num_bonds=[90], num_residues=[11]),\n",
       " PackedProtein(batch_size=1, num_atoms=[11], num_bonds=[60], num_residues=[11]),\n",
       " PackedProtein(batch_size=1, num_atoms=[11], num_bonds=[91], num_residues=[11]),\n",
       " PackedProtein(batch_size=1, num_atoms=[11], num_bonds=[88], num_residues=[11]),\n",
       " PackedProtein(batch_size=1, num_atoms=[11], num_bonds=[95], num_residues=[11]),\n",
       " PackedProtein(batch_size=1, num_atoms=[11], num_bonds=[89], num_residues=[11]),\n",
       " PackedProtein(batch_size=1, num_atoms=[27], num_bonds=[228], num_residues=[27]),\n",
       " PackedProtein(batch_size=1, num_atoms=[11], num_bonds=[90], num_residues=[11]),\n",
       " PackedProtein(batch_size=1, num_atoms=[11], num_bonds=[92], num_residues=[11]),\n",
       " PackedProtein(batch_size=1, num_atoms=[11], num_bonds=[87], num_residues=[11]),\n",
       " PackedProtein(batch_size=1, num_atoms=[11], num_bonds=[93], num_residues=[11]),\n",
       " PackedProtein(batch_size=1, num_atoms=[16], num_bonds=[117], num_residues=[16]),\n",
       " PackedProtein(batch_size=1, num_atoms=[12], num_bonds=[59], num_residues=[12]),\n",
       " PackedProtein(batch_size=1, num_atoms=[11], num_bonds=[91], num_residues=[11]),\n",
       " PackedProtein(batch_size=1, num_atoms=[15], num_bonds=[95], num_residues=[15]),\n",
       " PackedProtein(batch_size=1, num_atoms=[24], num_bonds=[157], num_residues=[24]),\n",
       " PackedProtein(batch_size=1, num_atoms=[11], num_bonds=[94], num_residues=[11]),\n",
       " PackedProtein(batch_size=1, num_atoms=[11], num_bonds=[95], num_residues=[11]),\n",
       " PackedProtein(batch_size=1, num_atoms=[15], num_bonds=[118], num_residues=[15]),\n",
       " PackedProtein(batch_size=1, num_atoms=[11], num_bonds=[94], num_residues=[11]),\n",
       " PackedProtein(batch_size=1, num_atoms=[11], num_bonds=[70], num_residues=[11]),\n",
       " PackedProtein(batch_size=1, num_atoms=[11], num_bonds=[93], num_residues=[11]),\n",
       " PackedProtein(batch_size=1, num_atoms=[14], num_bonds=[100], num_residues=[14]),\n",
       " PackedProtein(batch_size=1, num_atoms=[13], num_bonds=[96], num_residues=[13]),\n",
       " PackedProtein(batch_size=1, num_atoms=[11], num_bonds=[94], num_residues=[11]),\n",
       " PackedProtein(batch_size=1, num_atoms=[26], num_bonds=[164], num_residues=[26]),\n",
       " PackedProtein(batch_size=1, num_atoms=[11], num_bonds=[90], num_residues=[11]),\n",
       " PackedProtein(batch_size=1, num_atoms=[11], num_bonds=[93], num_residues=[11]),\n",
       " PackedProtein(batch_size=1, num_atoms=[11], num_bonds=[93], num_residues=[11]),\n",
       " PackedProtein(batch_size=1, num_atoms=[11], num_bonds=[93], num_residues=[11]),\n",
       " PackedProtein(batch_size=1, num_atoms=[15], num_bonds=[101], num_residues=[15]),\n",
       " PackedProtein(batch_size=1, num_atoms=[11], num_bonds=[92], num_residues=[11]),\n",
       " PackedProtein(batch_size=1, num_atoms=[25], num_bonds=[168], num_residues=[25]),\n",
       " PackedProtein(batch_size=1, num_atoms=[11], num_bonds=[89], num_residues=[11]),\n",
       " PackedProtein(batch_size=1, num_atoms=[11], num_bonds=[91], num_residues=[11]),\n",
       " PackedProtein(batch_size=1, num_atoms=[18], num_bonds=[127], num_residues=[18]),\n",
       " PackedProtein(batch_size=1, num_atoms=[11], num_bonds=[89], num_residues=[11]),\n",
       " PackedProtein(batch_size=1, num_atoms=[10], num_bonds=[18], num_residues=[10]),\n",
       " PackedProtein(batch_size=1, num_atoms=[17], num_bonds=[127], num_residues=[17]),\n",
       " PackedProtein(batch_size=1, num_atoms=[11], num_bonds=[92], num_residues=[11]),\n",
       " PackedProtein(batch_size=1, num_atoms=[19], num_bonds=[127], num_residues=[19]),\n",
       " PackedProtein(batch_size=1, num_atoms=[22], num_bonds=[183], num_residues=[22]),\n",
       " PackedProtein(batch_size=1, num_atoms=[12], num_bonds=[93], num_residues=[12]),\n",
       " PackedProtein(batch_size=1, num_atoms=[13], num_bonds=[92], num_residues=[13]),\n",
       " PackedProtein(batch_size=1, num_atoms=[11], num_bonds=[90], num_residues=[11]),\n",
       " PackedProtein(batch_size=1, num_atoms=[11], num_bonds=[90], num_residues=[11]),\n",
       " PackedProtein(batch_size=1, num_atoms=[11], num_bonds=[95], num_residues=[11]),\n",
       " PackedProtein(batch_size=1, num_atoms=[11], num_bonds=[89], num_residues=[11]),\n",
       " PackedProtein(batch_size=1, num_atoms=[11], num_bonds=[91], num_residues=[11]),\n",
       " PackedProtein(batch_size=1, num_atoms=[14], num_bonds=[92], num_residues=[14]),\n",
       " PackedProtein(batch_size=1, num_atoms=[11], num_bonds=[97], num_residues=[11]),\n",
       " PackedProtein(batch_size=1, num_atoms=[47], num_bonds=[303], num_residues=[47]),\n",
       " PackedProtein(batch_size=1, num_atoms=[11], num_bonds=[90], num_residues=[11]),\n",
       " PackedProtein(batch_size=1, num_atoms=[11], num_bonds=[89], num_residues=[11]),\n",
       " PackedProtein(batch_size=1, num_atoms=[11], num_bonds=[90], num_residues=[11]),\n",
       " PackedProtein(batch_size=1, num_atoms=[11], num_bonds=[90], num_residues=[11]),\n",
       " PackedProtein(batch_size=1, num_atoms=[11], num_bonds=[89], num_residues=[11]),\n",
       " PackedProtein(batch_size=1, num_atoms=[11], num_bonds=[91], num_residues=[11]),\n",
       " PackedProtein(batch_size=1, num_atoms=[11], num_bonds=[94], num_residues=[11]),\n",
       " PackedProtein(batch_size=1, num_atoms=[11], num_bonds=[89], num_residues=[11]),\n",
       " PackedProtein(batch_size=1, num_atoms=[11], num_bonds=[91], num_residues=[11]),\n",
       " PackedProtein(batch_size=1, num_atoms=[11], num_bonds=[93], num_residues=[11]),\n",
       " PackedProtein(batch_size=1, num_atoms=[11], num_bonds=[92], num_residues=[11]),\n",
       " PackedProtein(batch_size=1, num_atoms=[11], num_bonds=[89], num_residues=[11]),\n",
       " PackedProtein(batch_size=1, num_atoms=[11], num_bonds=[94], num_residues=[11]),\n",
       " PackedProtein(batch_size=1, num_atoms=[20], num_bonds=[147], num_residues=[20]),\n",
       " PackedProtein(batch_size=1, num_atoms=[11], num_bonds=[88], num_residues=[11]),\n",
       " PackedProtein(batch_size=1, num_atoms=[14], num_bonds=[102], num_residues=[14]),\n",
       " PackedProtein(batch_size=1, num_atoms=[11], num_bonds=[98], num_residues=[11]),\n",
       " PackedProtein(batch_size=1, num_atoms=[11], num_bonds=[90], num_residues=[11]),\n",
       " PackedProtein(batch_size=1, num_atoms=[11], num_bonds=[88], num_residues=[11]),\n",
       " PackedProtein(batch_size=1, num_atoms=[11], num_bonds=[88], num_residues=[11]),\n",
       " PackedProtein(batch_size=1, num_atoms=[11], num_bonds=[92], num_residues=[11]),\n",
       " PackedProtein(batch_size=1, num_atoms=[11], num_bonds=[92], num_residues=[11]),\n",
       " PackedProtein(batch_size=1, num_atoms=[11], num_bonds=[93], num_residues=[11]),\n",
       " PackedProtein(batch_size=1, num_atoms=[11], num_bonds=[91], num_residues=[11]),\n",
       " PackedProtein(batch_size=1, num_atoms=[11], num_bonds=[94], num_residues=[11]),\n",
       " PackedProtein(batch_size=1, num_atoms=[11], num_bonds=[94], num_residues=[11]),\n",
       " PackedProtein(batch_size=1, num_atoms=[11], num_bonds=[86], num_residues=[11]),\n",
       " PackedProtein(batch_size=1, num_atoms=[18], num_bonds=[115], num_residues=[18]),\n",
       " PackedProtein(batch_size=1, num_atoms=[11], num_bonds=[90], num_residues=[11]),\n",
       " PackedProtein(batch_size=1, num_atoms=[12], num_bonds=[89], num_residues=[12]),\n",
       " PackedProtein(batch_size=1, num_atoms=[11], num_bonds=[90], num_residues=[11]),\n",
       " PackedProtein(batch_size=1, num_atoms=[15], num_bonds=[105], num_residues=[15]),\n",
       " PackedProtein(batch_size=1, num_atoms=[16], num_bonds=[126], num_residues=[16]),\n",
       " PackedProtein(batch_size=1, num_atoms=[11], num_bonds=[95], num_residues=[11]),\n",
       " PackedProtein(batch_size=1, num_atoms=[11], num_bonds=[92], num_residues=[11]),\n",
       " PackedProtein(batch_size=1, num_atoms=[11], num_bonds=[95], num_residues=[11]),\n",
       " PackedProtein(batch_size=1, num_atoms=[11], num_bonds=[93], num_residues=[11]),\n",
       " PackedProtein(batch_size=1, num_atoms=[16], num_bonds=[35], num_residues=[16]),\n",
       " PackedProtein(batch_size=1, num_atoms=[11], num_bonds=[89], num_residues=[11]),\n",
       " PackedProtein(batch_size=1, num_atoms=[11], num_bonds=[92], num_residues=[11]),\n",
       " PackedProtein(batch_size=1, num_atoms=[27], num_bonds=[232], num_residues=[27]),\n",
       " PackedProtein(batch_size=1, num_atoms=[26], num_bonds=[227], num_residues=[26]),\n",
       " PackedProtein(batch_size=1, num_atoms=[11], num_bonds=[91], num_residues=[11]),\n",
       " PackedProtein(batch_size=1, num_atoms=[7], num_bonds=[17], num_residues=[7]),\n",
       " PackedProtein(batch_size=1, num_atoms=[11], num_bonds=[93], num_residues=[11]),\n",
       " PackedProtein(batch_size=1, num_atoms=[11], num_bonds=[90], num_residues=[11]),\n",
       " PackedProtein(batch_size=1, num_atoms=[15], num_bonds=[109], num_residues=[15]),\n",
       " PackedProtein(batch_size=1, num_atoms=[9], num_bonds=[25], num_residues=[9]),\n",
       " PackedProtein(batch_size=1, num_atoms=[11], num_bonds=[93], num_residues=[11]),\n",
       " PackedProtein(batch_size=1, num_atoms=[11], num_bonds=[91], num_residues=[11])]"
      ]
     },
     "execution_count": 15,
     "metadata": {},
     "output_type": "execute_result"
    }
   ],
   "source": [
    "pocket_list"
   ]
  },
  {
   "cell_type": "code",
   "execution_count": 13,
   "metadata": {},
   "outputs": [
    {
     "data": {
      "text/plain": [
       "{'mask': array([1, 1, 1, 1, 1, 1, 1, 1, 1, 1, 1, 1, 1, 1, 1, 1, 1, 1, 1, 1, 1, 1,\n",
       "        1, 1, 1, 1, 1, 1, 1, 1, 1, 1, 1, 1, 1, 1, 1, 1, 1, 1, 1, 1, 1, 1,\n",
       "        1, 1, 1, 1, 1, 1, 1, 1, 1, 1, 1, 1, 1, 1, 1, 1, 1, 1, 1, 1, 1, 1,\n",
       "        1, 1, 1, 1, 1, 1, 1, 1, 1, 1, 1, 1, 1, 1, 1, 1, 1, 1, 1, 1, 1, 1,\n",
       "        1, 1, 1, 1, 1, 1, 1, 1, 1, 1, 1, 1, 1, 1, 1, 1, 1, 1, 1, 1, 1, 1,\n",
       "        1, 1, 1, 1, 1, 1, 1, 1, 1, 1, 1, 1, 1, 1, 1, 1, 1, 1, 1, 1, 1, 1,\n",
       "        1, 1, 1, 1, 1, 1, 1, 1, 1, 1, 1, 1, 1, 1, 1, 1, 1, 1, 1, 1, 1, 1,\n",
       "        1, 1, 1, 1, 1, 1, 1, 1, 1, 1, 1, 1, 1, 1, 1, 1, 1, 1, 1, 1, 1, 1,\n",
       "        1, 1, 1, 1, 1, 1, 1, 1, 1, 1, 1, 1, 1, 1, 1, 1, 1, 1, 1, 1, 1, 1,\n",
       "        1, 1, 1, 1, 1, 1, 1, 1, 1, 1, 1, 1, 1, 1, 1, 1, 1, 1, 1, 1, 1, 1,\n",
       "        1, 1, 1, 1, 1, 1, 1, 1, 1, 1, 1, 1, 1, 1, 1, 1, 1, 1, 1, 1, 1, 1,\n",
       "        1, 1, 1, 1, 1, 1, 1, 1, 1, 1, 1, 1, 1, 1, 1, 1, 1, 1, 1, 1, 1, 1,\n",
       "        1, 1, 1, 1, 1, 1, 1, 1, 1, 1, 1, 1, 1, 1, 1, 1, 1, 1, 1, 1, 1, 1,\n",
       "        1, 1, 1, 1, 1, 1, 1, 1, 1, 1, 1, 1, 1, 1, 1, 1, 1, 1, 1, 1, 1, 1,\n",
       "        1, 1, 1, 1, 1, 1, 1, 1, 1, 1, 1, 1, 1, 1, 1, 1, 1, 1, 1, 1, 1, 1,\n",
       "        1, 1, 1, 1, 1, 1, 1, 1, 1, 1, 1, 1, 1, 1, 1, 1, 1, 1, 1, 1, 1, 1,\n",
       "        1, 1, 1, 1, 1, 1, 1, 1, 1, 1, 1, 1, 1, 1, 1, 1, 1, 1, 1, 1, 1, 1,\n",
       "        1, 1, 1, 1, 1, 1, 1, 1, 1, 1, 1, 1, 1, 1, 1, 1, 1, 1, 1, 1, 1, 1,\n",
       "        1, 1, 1, 1, 1, 1, 1, 1, 1, 1, 1, 1, 1, 1, 1, 1, 1, 1, 1, 1, 1, 1,\n",
       "        1, 1, 1, 1, 1, 1, 1, 1, 1, 1, 1, 1, 1], dtype=int32),\n",
       " 'target': array([0, 0, 0, 0, 0, 0, 0, 0, 0, 0, 0, 0, 0, 0, 0, 0, 0, 0, 0, 0, 0, 0,\n",
       "        0, 0, 0, 0, 0, 0, 0, 0, 0, 0, 0, 0, 0, 0, 0, 0, 0, 0, 0, 0, 0, 0,\n",
       "        0, 0, 0, 0, 0, 0, 0, 0, 0, 0, 0, 0, 0, 0, 0, 0, 0, 0, 0, 0, 0, 0,\n",
       "        0, 0, 0, 0, 0, 0, 0, 0, 0, 0, 0, 0, 0, 0, 0, 0, 0, 0, 0, 0, 0, 0,\n",
       "        0, 0, 0, 0, 0, 0, 0, 0, 0, 0, 0, 0, 0, 0, 0, 1, 1, 1, 1, 1, 1, 1,\n",
       "        1, 1, 0, 0, 0, 0, 0, 0, 0, 0, 0, 0, 0, 0, 0, 0, 1, 0, 0, 0, 0, 0,\n",
       "        0, 0, 0, 0, 0, 0, 0, 0, 0, 0, 0, 0, 0, 0, 0, 0, 0, 0, 0, 0, 0, 0,\n",
       "        0, 0, 0, 0, 0, 0, 0, 0, 0, 0, 0, 0, 0, 0, 0, 0, 0, 0, 0, 0, 0, 0,\n",
       "        0, 0, 0, 0, 0, 0, 0, 0, 0, 0, 0, 0, 0, 0, 0, 0, 0, 0, 0, 0, 0, 0,\n",
       "        0, 0, 0, 0, 0, 0, 0, 0, 0, 0, 0, 0, 0, 0, 0, 0, 0, 0, 0, 0, 0, 0,\n",
       "        0, 1, 0, 0, 0, 0, 0, 0, 0, 0, 0, 0, 0, 0, 0, 0, 0, 0, 0, 0, 0, 0,\n",
       "        0, 0, 0, 0, 0, 0, 0, 0, 0, 0, 0, 0, 0, 0, 0, 0, 0, 0, 0, 0, 0, 0,\n",
       "        0, 0, 0, 0, 0, 0, 0, 0, 0, 0, 0, 0, 0, 0, 0, 0, 0, 0, 0, 0, 0, 0,\n",
       "        0, 0, 0, 0, 0, 0, 0, 0, 0, 0, 0, 0, 0, 0, 0, 0, 0, 0, 0, 0, 0, 0,\n",
       "        0, 0, 0, 0, 0, 0, 0, 0, 0, 0, 0, 0, 0, 0, 0, 0, 0, 0, 0, 0, 0, 0,\n",
       "        0, 0, 0, 0, 0, 0, 0, 0, 0, 0, 0, 0, 0, 0, 0, 0, 0, 0, 0, 0, 0, 0,\n",
       "        0, 0, 0, 0, 0, 0, 0, 0, 0, 0, 0, 0, 0, 0, 0, 0, 0, 0, 0, 0, 0, 0,\n",
       "        0, 0, 0, 0, 0, 0, 0, 0, 0, 0, 0, 0, 0, 0, 0, 0, 0, 0, 0, 0, 0, 0,\n",
       "        0, 0, 0, 0, 0, 0, 0, 0, 0, 0, 0, 0, 0, 0, 0, 0, 0, 0, 0, 0, 0, 0,\n",
       "        0, 0, 0, 0, 0, 0, 0, 0, 0, 0, 0, 0, 0], dtype=int32)}"
      ]
     },
     "execution_count": 13,
     "metadata": {},
     "output_type": "execute_result"
    }
   ],
   "source": [
    "label_list[0]"
   ]
  },
  {
   "cell_type": "code",
   "execution_count": 14,
   "metadata": {},
   "outputs": [],
   "source": [
    "label_pkl = '../../../data/dta-datasets/KIBA/gearnet_labeled.pkl'\n",
    "with utils.smart_open(label_pkl, \"wb\") as fout:\n",
    "    pickle.dump(label_list, fout)"
   ]
  },
  {
   "cell_type": "code",
   "execution_count": 16,
   "metadata": {},
   "outputs": [],
   "source": [
    "pocket_pkl = '../../../data/dta-datasets/KIBA/gearnetesm_labeledpocket_Protein.pkl'\n",
    "with utils.smart_open(pocket_pkl, \"wb\") as fout:\n",
    "    pickle.dump(pocket_list, fout)"
   ]
  },
  {
   "cell_type": "markdown",
   "metadata": {},
   "source": [
    "## Pocket Prediction Performance with P2Rank"
   ]
  },
  {
   "cell_type": "markdown",
   "metadata": {},
   "source": [
    "Get the label"
   ]
  },
  {
   "cell_type": "code",
   "execution_count": 1,
   "metadata": {},
   "outputs": [],
   "source": [
    "import torch\n",
    "import pickle\n",
    "import json\n",
    "from tqdm import tqdm\n",
    "import pandas as pd\n",
    "import numpy as np\n",
    "from torchdrug import utils, metrics\n",
    "\n",
    "path = \"../../../data/dta-datasets/KIBA/\"\n",
    "protein_file = \"../../../data/dta-datasets/KIBA/kiba_proteins.csv\""
   ]
  },
  {
   "cell_type": "code",
   "execution_count": 2,
   "metadata": {},
   "outputs": [],
   "source": [
    "label_pkl = '../../../data/dta-datasets/KIBA/gearnet_labeled.pkl'\n",
    "with utils.smart_open(label_pkl, \"rb\") as fin:\n",
    "    label_list = pickle.load(fin)"
   ]
  },
  {
   "cell_type": "code",
   "execution_count": 3,
   "metadata": {},
   "outputs": [
    {
     "data": {
      "text/plain": [
       "229"
      ]
     },
     "execution_count": 3,
     "metadata": {},
     "output_type": "execute_result"
    }
   ],
   "source": [
    "len(label_list)"
   ]
  },
  {
   "cell_type": "code",
   "execution_count": 4,
   "metadata": {},
   "outputs": [
    {
     "data": {
      "text/plain": [
       "{'mask': array([1, 1, 1, 1, 1, 1, 1, 1, 1, 1, 1, 1, 1, 1, 1, 1, 1, 1, 1, 1, 1, 1,\n",
       "        1, 1, 1, 1, 1, 1, 1, 1, 1, 1, 1, 1, 1, 1, 1, 1, 1, 1, 1, 1, 1, 1,\n",
       "        1, 1, 1, 1, 1, 1, 1, 1, 1, 1, 1, 1, 1, 1, 1, 1, 1, 1, 1, 1, 1, 1,\n",
       "        1, 1, 1, 1, 1, 1, 1, 1, 1, 1, 1, 1, 1, 1, 1, 1, 1, 1, 1, 1, 1, 1,\n",
       "        1, 1, 1, 1, 1, 1, 1, 1, 1, 1, 1, 1, 1, 1, 1, 1, 1, 1, 1, 1, 1, 1,\n",
       "        1, 1, 1, 1, 1, 1, 1, 1, 1, 1, 1, 1, 1, 1, 1, 1, 1, 1, 1, 1, 1, 1,\n",
       "        1, 1, 1, 1, 1, 1, 1, 1, 1, 1, 1, 1, 1, 1, 1, 1, 1, 1, 1, 1, 1, 1,\n",
       "        1, 1, 1, 1, 1, 1, 1, 1, 1, 1, 1, 1, 1, 1, 1, 1, 1, 1, 1, 1, 1, 1,\n",
       "        1, 1, 1, 1, 1, 1, 1, 1, 1, 1, 1, 1, 1, 1, 1, 1, 1, 1, 1, 1, 1, 1,\n",
       "        1, 1, 1, 1, 1, 1, 1, 1, 1, 1, 1, 1, 1, 1, 1, 1, 1, 1, 1, 1, 1, 1,\n",
       "        1, 1, 1, 1, 1, 1, 1, 1, 1, 1, 1, 1, 1, 1, 1, 1, 1, 1, 1, 1, 1, 1,\n",
       "        1, 1, 1, 1, 1, 1, 1, 1, 1, 1, 1, 1, 1, 1, 1, 1, 1, 1, 1, 1, 1, 1,\n",
       "        1, 1, 1, 1, 1, 1, 1, 1, 1, 1, 1, 1, 1, 1, 1, 1, 1, 1, 1, 1, 1, 1,\n",
       "        1, 1, 1, 1, 1, 1, 1, 1, 1, 1, 1, 1, 1, 1, 1, 1, 1, 1, 1, 1, 1, 1,\n",
       "        1, 1, 1, 1, 1, 1, 1, 1, 1, 1, 1, 1, 1, 1, 1, 1, 1, 1, 1, 1, 1, 1,\n",
       "        1, 1, 1, 1, 1, 1, 1, 1, 1, 1, 1, 1, 1, 1, 1, 1, 1, 1, 1, 1, 1, 1,\n",
       "        1, 1, 1, 1, 1, 1, 1, 1, 1, 1, 1, 1, 1, 1, 1, 1, 1, 1, 1, 1, 1, 1,\n",
       "        1, 1, 1, 1, 1, 1, 1, 1, 1, 1, 1, 1, 1, 1, 1, 1, 1, 1, 1, 1, 1, 1,\n",
       "        1, 1, 1, 1, 1, 1, 1, 1, 1, 1, 1, 1, 1, 1, 1, 1, 1, 1, 1, 1, 1, 1,\n",
       "        1, 1, 1, 1, 1, 1, 1, 1, 1, 1, 1, 1, 1], dtype=int32),\n",
       " 'target': array([0, 0, 0, 0, 0, 0, 0, 0, 0, 0, 0, 0, 0, 0, 0, 0, 0, 0, 0, 0, 0, 0,\n",
       "        0, 0, 0, 0, 0, 0, 0, 0, 0, 0, 0, 0, 0, 0, 0, 0, 0, 0, 0, 0, 0, 0,\n",
       "        0, 0, 0, 0, 0, 0, 0, 0, 0, 0, 0, 0, 0, 0, 0, 0, 0, 0, 0, 0, 0, 0,\n",
       "        0, 0, 0, 0, 0, 0, 0, 0, 0, 0, 0, 0, 0, 0, 0, 0, 0, 0, 0, 0, 0, 0,\n",
       "        0, 0, 0, 0, 0, 0, 0, 0, 0, 0, 0, 0, 0, 0, 0, 1, 1, 1, 1, 1, 1, 1,\n",
       "        1, 1, 0, 0, 0, 0, 0, 0, 0, 0, 0, 0, 0, 0, 0, 0, 1, 0, 0, 0, 0, 0,\n",
       "        0, 0, 0, 0, 0, 0, 0, 0, 0, 0, 0, 0, 0, 0, 0, 0, 0, 0, 0, 0, 0, 0,\n",
       "        0, 0, 0, 0, 0, 0, 0, 0, 0, 0, 0, 0, 0, 0, 0, 0, 0, 0, 0, 0, 0, 0,\n",
       "        0, 0, 0, 0, 0, 0, 0, 0, 0, 0, 0, 0, 0, 0, 0, 0, 0, 0, 0, 0, 0, 0,\n",
       "        0, 0, 0, 0, 0, 0, 0, 0, 0, 0, 0, 0, 0, 0, 0, 0, 0, 0, 0, 0, 0, 0,\n",
       "        0, 1, 0, 0, 0, 0, 0, 0, 0, 0, 0, 0, 0, 0, 0, 0, 0, 0, 0, 0, 0, 0,\n",
       "        0, 0, 0, 0, 0, 0, 0, 0, 0, 0, 0, 0, 0, 0, 0, 0, 0, 0, 0, 0, 0, 0,\n",
       "        0, 0, 0, 0, 0, 0, 0, 0, 0, 0, 0, 0, 0, 0, 0, 0, 0, 0, 0, 0, 0, 0,\n",
       "        0, 0, 0, 0, 0, 0, 0, 0, 0, 0, 0, 0, 0, 0, 0, 0, 0, 0, 0, 0, 0, 0,\n",
       "        0, 0, 0, 0, 0, 0, 0, 0, 0, 0, 0, 0, 0, 0, 0, 0, 0, 0, 0, 0, 0, 0,\n",
       "        0, 0, 0, 0, 0, 0, 0, 0, 0, 0, 0, 0, 0, 0, 0, 0, 0, 0, 0, 0, 0, 0,\n",
       "        0, 0, 0, 0, 0, 0, 0, 0, 0, 0, 0, 0, 0, 0, 0, 0, 0, 0, 0, 0, 0, 0,\n",
       "        0, 0, 0, 0, 0, 0, 0, 0, 0, 0, 0, 0, 0, 0, 0, 0, 0, 0, 0, 0, 0, 0,\n",
       "        0, 0, 0, 0, 0, 0, 0, 0, 0, 0, 0, 0, 0, 0, 0, 0, 0, 0, 0, 0, 0, 0,\n",
       "        0, 0, 0, 0, 0, 0, 0, 0, 0, 0, 0, 0, 0], dtype=int32)}"
      ]
     },
     "execution_count": 4,
     "metadata": {},
     "output_type": "execute_result"
    }
   ],
   "source": [
    "label_list[0]"
   ]
  },
  {
   "cell_type": "markdown",
   "metadata": {},
   "source": [
    "Get the prediction from P2Rank"
   ]
  },
  {
   "cell_type": "code",
   "execution_count": 5,
   "metadata": {},
   "outputs": [
    {
     "data": {
      "text/html": [
       "<div>\n",
       "<style scoped>\n",
       "    .dataframe tbody tr th:only-of-type {\n",
       "        vertical-align: middle;\n",
       "    }\n",
       "\n",
       "    .dataframe tbody tr th {\n",
       "        vertical-align: top;\n",
       "    }\n",
       "\n",
       "    .dataframe thead th {\n",
       "        text-align: right;\n",
       "    }\n",
       "</style>\n",
       "<table border=\"1\" class=\"dataframe\">\n",
       "  <thead>\n",
       "    <tr style=\"text-align: right;\">\n",
       "      <th></th>\n",
       "      <th>Gene</th>\n",
       "      <th>PDBID</th>\n",
       "    </tr>\n",
       "  </thead>\n",
       "  <tbody>\n",
       "    <tr>\n",
       "      <th>0</th>\n",
       "      <td>O00141</td>\n",
       "      <td>O00141</td>\n",
       "    </tr>\n",
       "    <tr>\n",
       "      <th>1</th>\n",
       "      <td>O00311</td>\n",
       "      <td>O00311</td>\n",
       "    </tr>\n",
       "    <tr>\n",
       "      <th>2</th>\n",
       "      <td>O00329</td>\n",
       "      <td>O00329</td>\n",
       "    </tr>\n",
       "    <tr>\n",
       "      <th>3</th>\n",
       "      <td>O00418</td>\n",
       "      <td>O00418</td>\n",
       "    </tr>\n",
       "    <tr>\n",
       "      <th>4</th>\n",
       "      <td>O00444</td>\n",
       "      <td>O00444</td>\n",
       "    </tr>\n",
       "    <tr>\n",
       "      <th>...</th>\n",
       "      <td>...</td>\n",
       "      <td>...</td>\n",
       "    </tr>\n",
       "    <tr>\n",
       "      <th>224</th>\n",
       "      <td>Q9Y243</td>\n",
       "      <td>Q9Y243</td>\n",
       "    </tr>\n",
       "    <tr>\n",
       "      <th>225</th>\n",
       "      <td>Q9Y463</td>\n",
       "      <td>Q9Y463</td>\n",
       "    </tr>\n",
       "    <tr>\n",
       "      <th>226</th>\n",
       "      <td>Q9Y478</td>\n",
       "      <td>Q9Y478</td>\n",
       "    </tr>\n",
       "    <tr>\n",
       "      <th>227</th>\n",
       "      <td>Q9Y4K4</td>\n",
       "      <td>Q9Y4K4</td>\n",
       "    </tr>\n",
       "    <tr>\n",
       "      <th>228</th>\n",
       "      <td>Q9Y6M4</td>\n",
       "      <td>Q9Y6M4</td>\n",
       "    </tr>\n",
       "  </tbody>\n",
       "</table>\n",
       "<p>229 rows × 2 columns</p>\n",
       "</div>"
      ],
      "text/plain": [
       "       Gene   PDBID\n",
       "0    O00141  O00141\n",
       "1    O00311  O00311\n",
       "2    O00329  O00329\n",
       "3    O00418  O00418\n",
       "4    O00444  O00444\n",
       "..      ...     ...\n",
       "224  Q9Y243  Q9Y243\n",
       "225  Q9Y463  Q9Y463\n",
       "226  Q9Y478  Q9Y478\n",
       "227  Q9Y4K4  Q9Y4K4\n",
       "228  Q9Y6M4  Q9Y6M4\n",
       "\n",
       "[229 rows x 2 columns]"
      ]
     },
     "execution_count": 5,
     "metadata": {},
     "output_type": "execute_result"
    }
   ],
   "source": [
    "protein_df = pd.read_csv(protein_file, usecols=['Gene', 'PDBID'])\n",
    "protein_df"
   ]
  },
  {
   "cell_type": "code",
   "execution_count": 8,
   "metadata": {},
   "outputs": [
    {
     "name": "stderr",
     "output_type": "stream",
     "text": [
      "Cal the AUR and PRC from CSV: 100%|██████████| 229/229 [00:00<00:00, 596.49it/s]\n"
     ]
    }
   ],
   "source": [
    "auprc_list = []\n",
    "auroc_list =[]\n",
    "pdbs = protein_df[\"PDBID\"].tolist() \n",
    "indexes = range(len(pdbs))\n",
    "indexes = tqdm(indexes, \"Cal the AUR and PRC from CSV: \")\n",
    "for index in indexes:\n",
    "    # get the label\n",
    "    current_target = label_list[index]\n",
    "    target = torch.as_tensor(current_target['target'], dtype=torch.long)\n",
    "    mask = torch.as_tensor(current_target[\"mask\"], dtype=torch.bool)\n",
    "    labeled = ~torch.isnan(target) & mask\n",
    "    # get the pred\n",
    "    pdb_name = pdbs[index]\n",
    "    csv_file = path + 'p2rank/predict_protein_list/AF-' + pdbs[index] + '-F1-model_v4.pdb_residues.csv'\n",
    "    pdb_residues = pd.read_csv(csv_file)\n",
    "    pdb_residues.columns = pdb_residues.columns.str.strip()\n",
    "    pred_list = pdb_residues[\"probability\"].tolist()\n",
    "    pred = torch.as_tensor(pred_list, dtype=torch.float32)\n",
    "    # if target.shape[0] != target.shape[0]:\n",
    "    #     print(\"Error\") \n",
    "    # get the result\n",
    "    current_auprc = metrics.area_under_prc(pred[labeled], target[labeled])\n",
    "    auprc_list.append(current_auprc)\n",
    "    current_auroc = metrics.area_under_roc(pred[labeled], target[labeled])\n",
    "    auroc_list.append(current_auroc)"
   ]
  },
  {
   "cell_type": "code",
   "execution_count": 9,
   "metadata": {},
   "outputs": [
    {
     "data": {
      "text/plain": [
       "tensor(0.2290)"
      ]
     },
     "execution_count": 9,
     "metadata": {},
     "output_type": "execute_result"
    }
   ],
   "source": [
    "# get the mean result\n",
    "AUPRC = sum(auprc_list) / len(auprc_list)\n",
    "AUPRC"
   ]
  },
  {
   "cell_type": "code",
   "execution_count": 10,
   "metadata": {},
   "outputs": [
    {
     "data": {
      "text/plain": [
       "tensor(0.8606)"
      ]
     },
     "execution_count": 10,
     "metadata": {},
     "output_type": "execute_result"
    }
   ],
   "source": [
    "AUROC = sum(auroc_list) / len(auroc_list)\n",
    "AUROC"
   ]
  }
 ],
 "metadata": {
  "kernelspec": {
   "display_name": "Python 3.8.13 ('torchdrug')",
   "language": "python",
   "name": "python3"
  },
  "language_info": {
   "codemirror_mode": {
    "name": "ipython",
    "version": 3
   },
   "file_extension": ".py",
   "mimetype": "text/x-python",
   "name": "python",
   "nbconvert_exporter": "python",
   "pygments_lexer": "ipython3",
   "version": "3.8.16"
  },
  "orig_nbformat": 4,
  "vscode": {
   "interpreter": {
    "hash": "cb15710f8c0deeed06839ee1c6afab27549449016d814ee789699df3eb9a6173"
   }
  }
 },
 "nbformat": 4,
 "nbformat_minor": 2
}
